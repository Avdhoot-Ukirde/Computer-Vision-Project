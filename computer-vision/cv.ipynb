{
 "cells": [
  {
   "cell_type": "code",
   "execution_count": 2,
   "id": "39b89b5a",
   "metadata": {},
   "outputs": [],
   "source": [
    "import cv2\n",
    "import numpy as np\n",
    "import matplotlib.pyplot as plt"
   ]
  },
  {
   "cell_type": "code",
   "execution_count": 23,
   "id": "4f69d6ac",
   "metadata": {},
   "outputs": [],
   "source": [
    "# create a numpy array filled with zeros to use as a blank image\n",
    "\n",
    "image = np.zeros((512, 512, 3), np.uint8)\n",
    "\n",
    "# draw a green line on the image\n",
    "\n",
    "cv2.line(image, (0, 0), (511, 511), (0, 255, 0), 5)\n",
    "\n",
    "# draw a red rectangle on the image\n",
    "\n",
    "cv2.rectangle(image, (384, 0), (510, 128), (0, 0, 255), 3)\n",
    "\n",
    "# draw a blue circle on the image3\n",
    "cv2.circle(image, (447, 63), 63, (255, 0, 0), -1)\n",
    "\n",
    "# display the image\n",
    "\n",
    "cv2.imshow('Image', image)\n",
    "\n",
    "\n",
    "# wait for a key press and then close the window\n",
    "\n",
    "cv2.waitKey(0)\n",
    "cv2.destroyAllWindows()"
   ]
  },
  {
   "cell_type": "code",
   "execution_count": 12,
   "id": "cc39c722",
   "metadata": {},
   "outputs": [
    {
     "data": {
      "image/png": "[encoded data removed]",
      "text/plain": [
       "<Figure size 640x480 with 1 Axes>"
      ]
     },
     "metadata": {},
     "output_type": "display_data"
    }
   ],
   "source": [
    "# Black image\n",
    "img = np.ones([100,100], dtype=np.uint8)*255\n",
    "\n",
    "plt.imshow(img, cmap=\"gray\")\n",
    "plt.axis(\"off\")\n",
    "plt.show()"
   ]
  },
  {
   "cell_type": "code",
   "execution_count": 25,
   "id": "80059d7f",
   "metadata": {},
   "outputs": [
    {
     "data": {
      "image/png": "[encoded data removed]",
      "text/plain": [
       "<Figure size 640x480 with 1 Axes>"
      ]
     },
     "metadata": {},
     "output_type": "display_data"
    }
   ],
   "source": [
    "import numpy as np\n",
    "import matplotlib.pyplot as plt\n",
    "\n",
    "# White image (100x100 pixels)\n",
    "img = np.ones([200,200,3], dtype=np.uint8) * 255\n",
    " \n",
    "img[:,:] =  [0,0,250]\n",
    "\n",
    "plt.imshow(img, cmap=\"gray\")\n",
    "plt.axis(\"off\")\n",
    "plt.show()"
   ]
  },
  {
   "cell_type": "code",
   "execution_count": 22,
   "id": "54bebbd2",
   "metadata": {},
   "outputs": [],
   "source": [
    "import cv2\n",
    "\n",
    "img = cv2.imread(r\"C:\\Users\\avdhoot\\OneDrive\\Desktop\\Virtual-Environment-streamlit-Prediction-model\\Computer-Vision-Project\\images\\image.jpg\")\n",
    "\n",
    "if img is None:\n",
    "    print(\"Error: Image not found!\")\n",
    "else:\n",
    "    cv2.imshow(\"My Image\", img)\n",
    "    cv2.waitKey(0)\n",
    "    cv2.destroyAllWindows()"
   ]
  },
  {
   "cell_type": "code",
   "execution_count": null,
   "id": "f5b4c5dc",
   "metadata": {},
   "outputs": [],
   "source": [
    "import cv2\n",
    "import numpy as np\n",
    "\n",
    "# Create a black image 100x100\n",
    "img = np.ones((200, 200, 3), dtype=np.uint8)\n",
    "img[100:200,0:100] = [255,255,255]\n",
    "img[0:100,100:200] = [255,255,255]\n",
    "# img[:100,:] = [255,255,255]\n",
    "img_resized = cv2.resize(img, (600, 600))    \n",
    "# Display the image in a window\n",
    "cv2.imshow(\"My Black Image\", img_resized)\n",
    "\n",
    "\n",
    "cv2.waitKey(0)\n",
    "cv2.destroyAllWindows()\n"
   ]
  }
 ],
 "metadata": {
  "kernelspec": {
   "display_name": ".venv",
   "language": "python",
   "name": "python3"
  },
  "language_info": {
   "codemirror_mode": {
    "name": "ipython",
    "version": 3
   },
   "file_extension": ".py",
   "mimetype": "text/x-python",
   "name": "python",
   "nbconvert_exporter": "python",
   "pygments_lexer": "ipython3",
   "version": "3.13.5"
  }
 },
 "nbformat": 4,
 "nbformat_minor": 5
}
