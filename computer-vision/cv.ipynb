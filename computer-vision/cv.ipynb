{
 "cells": [
  {
   "cell_type": "code",
   "execution_count": 2,
   "id": "39b89b5a",
   "metadata": {},
   "outputs": [],
   "source": [
    "import cv2\n",
    "import numpy as np\n",
    "import matplotlib.pyplot as plt"
   ]
  },
  {
   "cell_type": "code",
   "execution_count": 23,
   "id": "4f69d6ac",
   "metadata": {},
   "outputs": [],
   "source": [
    "# create a numpy array filled with zeros to use as a blank image\n",
    "\n",
    "image = np.zeros((512, 512, 3), np.uint8)\n",
    "\n",
    "# draw a green line on the image\n",
    "\n",
    "cv2.line(image, (0, 0), (511, 511), (0, 255, 0), 5)\n",
    "\n",
    "# draw a red rectangle on the image\n",
    "\n",
    "cv2.rectangle(image, (384, 0), (510, 128), (0, 0, 255), 3)\n",
    "\n",
    "# draw a blue circle on the image3\n",
    "cv2.circle(image, (447, 63), 63, (255, 0, 0), -1)\n",
    "\n",
    "# display the image\n",
    "\n",
    "cv2.imshow('Image', image)\n",
    "\n",
    "\n",
    "# wait for a key press and then close the window\n",
    "\n",
    "cv2.waitKey(0)\n",
    "cv2.destroyAllWindows()"
   ]
  },
  {
   "cell_type": "code",
   "execution_count": 12,
   "id": "cc39c722",
   "metadata": {},
   "outputs": [
    {
     "data": {
      "image/png": "[encoded data removed]",
      "text/plain": [
       "<Figure size 640x480 with 1 Axes>"
      ]
     },
     "metadata": {},
     "output_type": "display_data"
    }
   ],
   "source": [
    "# Black image\n",
    "img = np.ones([100,100], dtype=np.uint8)*255\n",
    "\n",
    "plt.imshow(img, cmap=\"gray\")\n",
    "plt.axis(\"off\")\n",
    "plt.show()"
   ]
  },
  {
   "cell_type": "code",
   "execution_count": 25,
   "id": "80059d7f",
   "metadata": {},
   "outputs": [
    {
     "data": {
      "image/png": "[encoded data removed]",
      "text/plain": [
       "<Figure size 640x480 with 1 Axes>"
      ]
     },
     "metadata": {},
     "output_type": "display_data"
    }
   ],
   "source": [
    "import numpy as np\n",
    "import matplotlib.pyplot as plt\n",
    "\n",
    "# White image (100x100 pixels)\n",
    "img = np.ones([200,200,3], dtype=np.uint8) * 255\n",
    " \n",
    "img[:,:] =  [0,0,250]\n",
    "\n",
    "plt.imshow(img, cmap=\"gray\")\n",
    "plt.axis(\"off\")\n",
    "plt.show()"
   ]
  },
  {
   "cell_type": "code",
   "execution_count": 22,
   "id": "54bebbd2",
   "metadata": {},
   "outputs": [],
   "source": [
    "import cv2\n",
    "\n",
    "img = cv2.imread(r\"C:\\Users\\avdhoot\\OneDrive\\Desktop\\Virtual-Environment-streamlit-Prediction-model\\Computer-Vision-Project\\images\\image.jpg\")\n",
    "\n",
    "if img is None:\n",
    "    print(\"Error: Image not found!\")\n",
    "else:\n",
    "    cv2.imshow(\"My Image\", img)\n",
    "    cv2.waitKey(0)\n",
    "    cv2.destroyAllWindows()"
   ]
  },
  {
   "cell_type": "code",
   "execution_count": 73,
   "id": "f5b4c5dc",
   "metadata": {},
   "outputs": [],
   "source": [
    "import cv2\n",
    "import numpy as np\n",
    "\n",
    "# basic\n",
    "\n",
    "img = np.ones((200, 200, 3), dtype=np.uint8)\n",
    "\n",
    "img[0:100,:100] = [255,197,11]\n",
    "img[100:200,0:100] = [255,65,237]\n",
    "img[150:200,100:150] = [255,118,110]\n",
    "img[0:150,100:150] = [0,0,255]\n",
    "img[:,150:200] = [255,14,68]\n",
    "\n",
    "img_resized = cv2.resize(img, (600, 600))    \n",
    "\n",
    "cv2.imshow(\"My Black Image\", img_resized)\n",
    "\n",
    "cv2.waitKey(0)\n",
    "cv2.destroyAllWindows()\n"
   ]
  },
  {
   "cell_type": "code",
   "execution_count": null,
   "id": "6ebb05e9",
   "metadata": {},
   "outputs": [],
   "source": [
    "# lines \n",
    "\n",
    "img = np.ones((200, 200, 3), dtype=np.uint8)\n",
    "\n",
    "cv2.line(img,(0,0),(200,200),(0,255,0),2)\n",
    "\n",
    "img_resized = cv2.resize(img, (600, 600))    \n",
    "\n",
    "cv2.imshow(\"My Black Image\", img_resized)\n",
    "\n",
    "cv2.waitKey(0)\n",
    "cv2.destroyAllWindows()"
   ]
  },
  {
   "cell_type": "code",
   "execution_count": null,
   "id": "4191ec56",
   "metadata": {},
   "outputs": [],
   "source": [
    "# circle\n",
    "\n",
    "img = np.ones((200, 200, 3), dtype=np.uint8)\n",
    "\n",
    "cv2.circle(img,(100,100),100,(0,255,0))\n",
    "\n",
    "img_resized = cv2.resize(img, (600, 600))    \n",
    "\n",
    "cv2.imshow(\"My Black Image\", img_resized)\n",
    "\n",
    "cv2.waitKey(0)\n",
    "cv2.destroyAllWindows()"
   ]
  },
  {
   "cell_type": "code",
   "execution_count": null,
   "id": "4f5e7366",
   "metadata": {},
   "outputs": [],
   "source": [
    "# cuboid\n",
    "\n",
    "img = np.ones((200, 200, 3), dtype=np.uint8)\n",
    "\n",
    "cv2.rectangle(img,(50,20),(180,150),(0,255,0))\n",
    "cv2.rectangle(img,(20,50),(150,180),(0,255,0))\n",
    "cv2.line(img,(20,50),(50,20),(0,255,0))\n",
    "cv2.line(img,(180,150),(150,180),(0,255,0))\n",
    "cv2.line(img,(180,20),(150,50),(0,255,0))\n",
    "cv2.line(img,(20,180),(50,150),(0,255,0))\n",
    "\n",
    "img_resized = cv2.resize(img, (600, 600))    \n",
    "\n",
    "cv2.imshow(\"My Black Image\", img_resized)\n",
    "\n",
    "cv2.waitKey(0)\n",
    "cv2.destroyAllWindows()"
   ]
  }
 ],
 "metadata": {
  "kernelspec": {
   "display_name": ".venv",
   "language": "python",
   "name": "python3"
  },
  "language_info": {
   "codemirror_mode": {
    "name": "ipython",
    "version": 3
   },
   "file_extension": ".py",
   "mimetype": "text/x-python",
   "name": "python",
   "nbconvert_exporter": "python",
   "pygments_lexer": "ipython3",
   "version": "3.13.5"
  }
 },
 "nbformat": 4,
 "nbformat_minor": 5
}
