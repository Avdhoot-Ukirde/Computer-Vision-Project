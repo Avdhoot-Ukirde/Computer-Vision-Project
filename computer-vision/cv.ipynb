{
 "cells": [
  {
   "cell_type": "code",
   "execution_count": 5,
   "id": "39b89b5a",
   "metadata": {},
   "outputs": [],
   "source": [
    "import cv2\n",
    "import numpy as np\n",
    "import matplotlib.pyplot as plt"
   ]
  },
  {
   "cell_type": "code",
   "execution_count": 6,
   "id": "4f69d6ac",
   "metadata": {},
   "outputs": [],
   "source": [
    "# create a numpy array filled with zeros to use as a blank image\n",
    "\n",
    "image = np.zeros((512, 512, 3), np.uint8)\n",
    "\n",
    "# draw a green line on the image\n",
    "\n",
    "cv2.line(image, (0, 0), (511, 511), (0, 255, 0), 5)\n",
    "\n",
    "# draw a red rectangle on the image\n",
    "\n",
    "cv2.rectangle(image, (384, 0), (510, 128), (0, 0, 255), 3)\n",
    "\n",
    "# draw a blue circle on the image3\n",
    "cv2.circle(image, (447, 63), 63, (255, 0, 0), -1)\n",
    "\n",
    "# display the image\n",
    "\n",
    "cv2.imshow('Image', image)\n",
    "\n",
    "\n",
    "# wait for a key press and then close the window\n",
    "\n",
    "cv2.waitKey(0)\n",
    "cv2.destroyAllWindows()"
   ]
  },
  {
   "cell_type": "code",
   "execution_count": 7,
   "id": "cc39c722",
   "metadata": {},
   "outputs": [
    {
     "data": {
      "image/png": "[encoded data removed]",
      "text/plain": [
       "<Figure size 640x480 with 1 Axes>"
      ]
     },
     "metadata": {},
     "output_type": "display_data"
    }
   ],
   "source": [
    "# Black image\n",
    "img = np.zeros([100,100], dtype=np.uint8)\n",
    "\n",
    "plt.imshow(img, cmap=\"gray\")\n",
    "plt.axis(\"off\")\n",
    "plt.show()"
   ]
  }
 ],
 "metadata": {
  "kernelspec": {
   "display_name": ".venv",
   "language": "python",
   "name": "python3"
  },
  "language_info": {
   "codemirror_mode": {
    "name": "ipython",
    "version": 3
   },
   "file_extension": ".py",
   "mimetype": "text/x-python",
   "name": "python",
   "nbconvert_exporter": "python",
   "pygments_lexer": "ipython3",
   "version": "3.13.5"
  }
 },
 "nbformat": 4,
 "nbformat_minor": 5
}
